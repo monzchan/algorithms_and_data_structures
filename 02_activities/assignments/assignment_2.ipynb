{
 "cells": [
  {
   "cell_type": "markdown",
   "metadata": {},
   "source": [
    "# Practice Interview\n",
    "\n",
    "## Objective\n",
    "\n",
    "_*The partner assignment aims to provide participants with the opportunity to practice coding in an interview context. You will analyze your partner's Assignment 1. Moreover, code reviews are common practice in a software development team. This assignment should give you a taste of the code review process.*_\n",
    "\n",
    "## Group Size\n",
    "\n",
    "Each group should have 2 people. You will be assigned a partner\n",
    "\n",
    "## Part 1:\n",
    "\n",
    "You and your partner must share each other's Assignment 1 submission."
   ]
  },
  {
   "cell_type": "markdown",
   "metadata": {},
   "source": [
    "\n",
    "## Part 2:\n",
    "\n",
    "Create a Jupyter Notebook, create 6 of the following headings, and complete the following for your partner's assignment 1:\n",
    "\n",
    "-   Paraphrase the problem in your own words.\n"
   ]
  },
  {
   "cell_type": "markdown",
   "metadata": {},
   "source": [
    "The input is a list of unsorted n integers. The list may contain duplicate elements. After sorting the list in ascending order, each element of the list should be either equal to its previous element, or different by +1, but some are missing. The smallest value in the list will be 0, and the largest value will be the maximum value of the input list. The question here is to find out what elements are missing from the lsit."
   ]
  },
  {
   "cell_type": "markdown",
   "metadata": {},
   "source": [
    "\n",
    "-   Create 1 new example that demonstrates you understand the problem. Trace/walkthrough 1 example that your partner made and explain it.\n"
   ]
  },
  {
   "cell_type": "code",
   "execution_count": null,
   "metadata": {},
   "outputs": [],
   "source": [
    "# My Example \n",
    "Input: lst = [1,3,5]\n",
    "Output: [0,2,4]\n",
    "# The smallest value is 0 which is missing form the list. Between 1 and 3, 2 is missing. Bewteen 3 and 5, 4 is misisng. 5 is the maxmum value of the list, so number after 5 will not be conisdered.\n",
    "\n",
    "# My partner's example\n",
    "Input: lst = [4, 5, 3, 8, 5, 2, 12, 5, 7, 10]\n",
    "Output: [0, 1, 6, 9, 11]\n",
    "# The list should be first sorted for better illustration.\n",
    "# Sorted input: lst = [2,3,4,5,5,5,7,8,10,12]\n",
    "# The smallest value is 0 which is missing from the list. The next element should be 0 + 1 = 1 which is also missing form the list\n",
    "# There are duplicated values of 5 but the duplication will not affect the ouput\n",
    "# Missing values are found again between 5 and 7, 8 and 10, and 10 and 12, thus giving the output values [6,9,11]\n"
   ]
  },
  {
   "cell_type": "markdown",
   "metadata": {},
   "source": [
    "\n",
    "-   Copy the solution your partner wrote. \n"
   ]
  },
  {
   "cell_type": "code",
   "execution_count": null,
   "metadata": {},
   "outputs": [],
   "source": [
    "# Solution 1\n",
    "\n",
    "def find_missings ( input_lst = list() ):\n",
    "    if len(input_lst) == 0:                  # list with no values given\n",
    "          return -1\n",
    "    missings = []                            # result list with missing values\n",
    "    input_lst.sort()                     \n",
    "    if input_lst[0] != 0:                    # baseline situation. First el in given list not 0        \n",
    "        missings += list( range ( 0, input_lst[0]))  # range from 0 to first el in given list\n",
    "\n",
    "    for pos in range( 1, len(input_lst) ):   # check difference between neghbors in given list         \n",
    "        if (input_lst[pos] - input_lst[pos-1]) > 1:\n",
    "             missings += list( range ( input_lst[pos-1]+1, input_lst[pos]))        \n",
    "\n",
    "    return missings"
   ]
  },
  {
   "cell_type": "code",
   "execution_count": null,
   "metadata": {},
   "outputs": [],
   "source": [
    "# Solution 2\n",
    "\n",
    "def find_missings_using_set ( input_lst = list() ):\n",
    "    if len(input_lst) == 0:                  # list with no values given\n",
    "          return -1\n",
    "    input_set = set(range(0, max(input_lst))) # set with input and missing values\n",
    "    for val in input_lst:\n",
    "        if val in input_set:\n",
    "            input_set.discard(val)            # deleting input values from the set\n",
    "    input_list = list(input_set)\n",
    "    return input_list"
   ]
  },
  {
   "cell_type": "markdown",
   "metadata": {},
   "source": [
    "\n",
    "-   Explain why their solution works in your own words.\n"
   ]
  },
  {
   "cell_type": "markdown",
   "metadata": {},
   "source": [
    "The first solution first defines the basecase as returning -1 if there is no values in the input list\n",
    "Then, it creates an empty list storing the missing integers, and sorts the input list\n",
    "Next, it uses the recursion function. \n",
    "The basecase here is if the first element of the sorted input list is not equal to 0, put 0 and the all integers smaller than the first element, to the list storing misssing values\n",
    "Then, iterates over the sorted list starting from the second element (position 1) \n",
    "For each element, it checks if the difference between current element (position i) and the previous element (position i-1) is greater than 1\n",
    "If so, it adds the missing numbers between these two elements to the list storing the missing values\n",
    "Lastly, returns the list of missing values\n",
    "\n",
    "As for the second solution, it also first defines the basecase as returning -1 if there is no values in the input list\n",
    "Then, it copies the input list to be the 'input_set' which is a set (eliminating duplicated values in the input list) with a range from 0 to the maximum value of the input list\n",
    "Next, it compares the input list with the input_set. Discard those values that exist in both the list and the set\n",
    "Lastly, returns the values remain in the input_set\n"
   ]
  },
  {
   "cell_type": "markdown",
   "metadata": {},
   "source": [
    "\n",
    "-   Explain the problem’s time and space complexity in your own words.\n"
   ]
  },
  {
   "cell_type": "markdown",
   "metadata": {},
   "source": [
    "Solution 1\n",
    "- checking if the list is empty: O(1)\n",
    "- sorting the input list: O(nlog n)\n",
    "- chcking for missing numbers: O(n)\n",
    "- Iterating through the list to find missing number between elements: O(n^2)\n",
    "- Overall time complexity O(n^2)\n",
    "\n",
    "Space complexity\n",
    "- space for soting : O(n)\n",
    "- Space for missing: O(n)\n",
    "- Overall space complexity: O(n)\n",
    "\n",
    "Solution 2\n",
    "- checking if the list is empty: O(1)\n",
    "- creating a set with all values in the range of [o, max(input_lst)]: O(n)\n",
    "- iterating thorugh the input list and discarding elements from the set: O(n)\n",
    "- converting the set of missing number to a list: O(n)\n",
    "- Overall time complexity O(n)\n",
    "\n",
    "Space complexity\n",
    "- space for the set with all values in the range [0, max(input_lst)]: O(n)\n",
    "- space for the final list of missing numbers: O(n)\n",
    "- Overall space complexity: O(n)"
   ]
  },
  {
   "cell_type": "code",
   "execution_count": null,
   "metadata": {},
   "outputs": [],
   "source": [
    "\n"
   ]
  },
  {
   "cell_type": "markdown",
   "metadata": {},
   "source": [
    "\n",
    "-   Critique your partner's solution, including explanation, and if there is anything that should be adjusted.\n"
   ]
  },
  {
   "cell_type": "markdown",
   "metadata": {},
   "source": [
    "Solution 2 suggested would be more efficient than solution 1, and is a lot simplier. Regarding solution 2, instead of using sets, calculating the missing numbers directly by iterating through the numbers and checking their presence in the list, may be more efficient. Here's an optimized version that only considers that actual range of interest:"
   ]
  },
  {
   "cell_type": "code",
   "execution_count": 1,
   "metadata": {},
   "outputs": [],
   "source": [
    "\n",
    "\n",
    "def find_missings_optimized(input_lst):\n",
    "    if not input_lst:\n",
    "        return -1\n",
    "    \n",
    "    n = len(input_lst)\n",
    "    max_val = max(input_lst)\n",
    "    \n",
    "    # Create a set of input values\n",
    "    input_set = set(input_lst)\n",
    "    \n",
    "    # Find missing values within the range [0, max_val]\n",
    "    missing_numbers = [i for i in range(max_val + 1) if i not in input_set]\n",
    "    \n",
    "    return missing_numbers if missing_numbers else -1\n",
    "\n",
    "\n"
   ]
  },
  {
   "cell_type": "code",
   "execution_count": 2,
   "metadata": {},
   "outputs": [
    {
     "name": "stdout",
     "output_type": "stream",
     "text": [
      "[1]\n"
     ]
    }
   ],
   "source": [
    "\n",
    "# Example 1\n",
    "print(find_missings_optimized([0, 2]))            \n"
   ]
  },
  {
   "cell_type": "code",
   "execution_count": 3,
   "metadata": {},
   "outputs": [
    {
     "name": "stdout",
     "output_type": "stream",
     "text": [
      "[2, 3, 4]\n"
     ]
    }
   ],
   "source": [
    "# Example 2\n",
    "print(find_missings_optimized([5, 0, 1]))         \n"
   ]
  },
  {
   "cell_type": "code",
   "execution_count": 4,
   "metadata": {},
   "outputs": [
    {
     "name": "stdout",
     "output_type": "stream",
     "text": [
      "[4, 9]\n"
     ]
    }
   ],
   "source": [
    "# Example 3\n",
    "print(find_missings_optimized([6, 8, 2, 3, 5, 7, 0, 1, 10]))  \n"
   ]
  },
  {
   "cell_type": "markdown",
   "metadata": {},
   "source": [
    "This method avoid creating a large set for all possible values. Instead, it only creates a set form the input list and then iterates over the ncessary range to find missing numbers. This approach is more memory effieincy especially when 'max(input_lst) is much larger than the number of actual elements\n",
    "Moreover, even though both solutions have O(n) time complexity, the optimized solution may have a lower constant factor and fewer operations in practice, especially when handling large ranges or when the number of missing numbers is relatively small compared ot the range"
   ]
  },
  {
   "cell_type": "markdown",
   "metadata": {},
   "source": [
    "\n",
    "## Part 3:\n",
    "\n",
    "Please write a 200 word reflection documenting your process from assignment 1, and your presentation and review experience with your partner at the bottom of the Jupyter Notebook under a new heading \"Reflection.\" Again, export this Notebook as pdf.\n"
   ]
  },
  {
   "cell_type": "markdown",
   "metadata": {},
   "source": [
    "### Reflection"
   ]
  },
  {
   "cell_type": "markdown",
   "metadata": {},
   "source": [
    "In Assignment 1, I tackled the problem of finding all root-to-leaf paths in a binary tree. Through this assignment, I learned to construct a binary tree from a list and perform a depth-first search (DFS) to collect all paths from the root to each leaf node. This exercise deepened my understanding of tree traversal algorithms and their implementation in Python. I also evaluated the time and space complexity of my solution, gaining insights into how recursion and path tracking impact performance.\n",
    "\n",
    "In Assignment 2, I reviewed my partner's solution for finding missing numbers in a list ranging from 0 to n. This task required a different approach compared to the binary tree problem, focusing on list manipulation and set operations. Evaluating my partner’s work allowed me to apply my knowledge of algorithmic complexity and data structures in a new context. I examined the efficiency of their approach and provided feedback on potential improvements.\n",
    "\n",
    "Both assignments enhanced my problem-solving skills and my ability to critically analyze and review code. The process of reviewing and presenting work underscored the importance of clear communication and collaborative learning in programming."
   ]
  },
  {
   "cell_type": "markdown",
   "metadata": {},
   "source": [
    "\n",
    "## Evaluation Criteria\n",
    "\n",
    "We are looking for the similar points as Assignment 1\n",
    "\n",
    "-   Problem is accurately stated\n",
    "\n",
    "-   New example is correct and easily understandable\n",
    "\n",
    "-   Correctness, time, and space complexity of the coding solution\n",
    "\n",
    "-   Clarity in explaining why the solution works, its time and space complexity\n",
    "\n",
    "-   Quality of critique of your partner's assignment, if necessary\n"
   ]
  },
  {
   "cell_type": "markdown",
   "metadata": {},
   "source": [
    "## Submission Information\n",
    "\n",
    "🚨 **Please review our [Assignment Submission Guide](https://github.com/UofT-DSI/onboarding/blob/main/onboarding_documents/submissions.md)** 🚨 for detailed instructions on how to format, branch, and submit your work. Following these guidelines is crucial for your submissions to be evaluated correctly.\n",
    "\n",
    "### Submission Parameters:\n",
    "* Submission Due Date: `HH:MM AM/PM - DD/MM/YYYY`\n",
    "* The branch name for your repo should be: `assignment-2`\n",
    "* What to submit for this assignment:\n",
    "    * This Jupyter Notebook (assignment_2.ipynb) should be populated and should be the only change in your pull request.\n",
    "* What the pull request link should look like for this assignment: `https://github.com/<your_github_username>/algorithms_and_data_structures/pull/<pr_id>`\n",
    "    * Open a private window in your browser. Copy and paste the link to your pull request into the address bar. Make sure you can see your pull request properly. This helps the technical facilitator and learning support staff review your submission easily.\n",
    "\n",
    "Checklist:\n",
    "- [ ] Created a branch with the correct naming convention.\n",
    "- [ ] Ensured that the repository is public.\n",
    "- [ ] Reviewed the PR description guidelines and adhered to them.\n",
    "- [ ] Verify that the link is accessible in a private browser window.\n",
    "\n",
    "If you encounter any difficulties or have questions, please don't hesitate to reach out to our team via our Slack at `#cohort-3-help`. Our Technical Facilitators and Learning Support staff are here to help you navigate any challenges.\n"
   ]
  }
 ],
 "metadata": {
  "kernelspec": {
   "display_name": "Python 3 (ipykernel)",
   "language": "python",
   "name": "python3"
  },
  "language_info": {
   "codemirror_mode": {
    "name": "ipython",
    "version": 3
   },
   "file_extension": ".py",
   "mimetype": "text/x-python",
   "name": "python",
   "nbconvert_exporter": "python",
   "pygments_lexer": "ipython3",
   "version": "3.10.13"
  }
 },
 "nbformat": 4,
 "nbformat_minor": 2
}
